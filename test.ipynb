{
 "cells": [
  {
   "cell_type": "code",
   "execution_count": 4,
   "metadata": {
    "tags": []
   },
   "outputs": [],
   "source": [
    "from datetime import datetime, timedelta\n",
    "import pprint\n",
    "import time\n",
    "from influxdb import InfluxDBClient\n",
    "from copy import deepcopy\n",
    "import pandas as pd\n",
    "\n",
    "host = 'ec2-54-146-80-82.compute-1.amazonaws.com'\n",
    "port = 8086\n",
    "user = 'root'\n",
    "passwd = 'root'\n",
    "dbName = 'Covid19'"
   ]
  },
  {
   "cell_type": "code",
   "execution_count": 5,
   "metadata": {},
   "outputs": [],
   "source": [
    "def connect_InfluxDB(db, host='ec2-54-146-80-82.compute-1.amazonaws.com', port=8086, user='root', passwd='root'):\n",
    "    # Create an object include information for connect to the InfluxDB\n",
    "    client = InfluxDBClient(host, port, user, passwd, db)\n",
    "\n",
    "    try:\n",
    "        # Try to Create database\n",
    "        client.create_database(db)\n",
    "\n",
    "        # If you can create database or have a database\n",
    "        # there is no problem connecting to the InfluxDB\n",
    "        print('Connection Successful')\n",
    "        print('=======================')\n",
    "        print('     Connection Info')\n",
    "        print('=======================')\n",
    "        print('host :', host)\n",
    "        print('port :', port)\n",
    "        print('username :', user)\n",
    "        print('database :', db)\n",
    "    except:\n",
    "        # Generate error if you can't create database (can't connect to ifdb)\n",
    "        print('Connection Failed')\n",
    "        pass\n",
    "\n",
    "    return client\n"
   ]
  },
  {
   "cell_type": "code",
   "execution_count": 6,
   "metadata": {
    "tags": []
   },
   "outputs": [
    {
     "output_type": "stream",
     "name": "stdout",
     "text": "Connection Successful\n=======================\n     Connection Info\n=======================\nhost : ec2-54-146-80-82.compute-1.amazonaws.com\nport : 8086\nusername : root\ndatabase : Covid19\n"
    }
   ],
   "source": [
    "mydb = connect_InfluxDB(db=dbName, host=host, port=port, user=user, passwd=passwd)\n"
   ]
  },
  {
   "cell_type": "code",
   "execution_count": 12,
   "metadata": {
    "tags": []
   },
   "outputs": [
    {
     "output_type": "stream",
     "name": "stdout",
     "text": "Querying data: select tConfirmed, tDeaths, tRecovered, tTesting from Covid19_KR where time > now() -6d;\n{'time': '2021-02-23T00:00:00Z', 'tConfirmed': 356, 'tDeaths': 11, 'tRecovered': 507, 'tTesting': 1604}\n{'time': '2021-02-24T00:00:00Z', 'tConfirmed': 440, 'tDeaths': 3, 'tRecovered': 656, 'tTesting': 923}\n{'time': '2021-02-25T00:00:00Z', 'tConfirmed': 396, 'tDeaths': 5, 'tRecovered': 437, 'tTesting': -6316}\n{'time': '2021-02-26T00:00:00Z', 'tConfirmed': 390, 'tDeaths': 4, 'tRecovered': 393, 'tTesting': 270}\n{'time': '2021-02-27T00:00:00Z', 'tConfirmed': 415, 'tDeaths': 10, 'tRecovered': 453, 'tTesting': 47}\n"
    }
   ],
   "source": [
    "query = 'select tConfirmed, tDeaths, tRecovered, tTesting from Covid19_KR where time > now() -6d;'\n",
    "\n",
    "print(\"Querying data: \" + query)\n",
    "result = mydb.query(query)\n",
    "\n",
    "for point in result.get_points():\n",
    "    print(point)"
   ]
  },
  {
   "cell_type": "code",
   "execution_count": null,
   "metadata": {},
   "outputs": [],
   "source": []
  }
 ],
 "metadata": {
  "language_info": {
   "codemirror_mode": {
    "name": "ipython",
    "version": 3
   },
   "file_extension": ".py",
   "mimetype": "text/x-python",
   "name": "python",
   "nbconvert_exporter": "python",
   "pygments_lexer": "ipython3",
   "version": 3
  },
  "orig_nbformat": 2,
  "kernelspec": {
   "name": "python_defaultSpec_1614212555974",
   "display_name": "Python 3.7.7 64-bit ('tc': venv)"
  }
 },
 "nbformat": 4,
 "nbformat_minor": 2
}
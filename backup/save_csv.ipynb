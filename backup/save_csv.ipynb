{
 "cells": [
  {
   "cell_type": "code",
   "execution_count": 32,
   "metadata": {
    "tags": []
   },
   "outputs": [],
   "source": [
    "import requests\n",
    "import xmltodict\n",
    "import json\n",
    "import datetime\n",
    "import pandas as pd"
   ]
  },
  {
   "cell_type": "code",
   "execution_count": 33,
   "metadata": {},
   "outputs": [],
   "source": [
    "# 보건복지부_코로나19 감염_현황\n",
    "def get_Covid19_KR(end_day, start_day): \n",
    "    url='http://openapi.data.go.kr/openapi/service/rest/Covid19/getCovid19InfStateJson' \n",
    "    api_key = '41cYgMWSvkL+jGmAZC/qLP0wimM1uABR3s2ehXnFqosoJBesTnXIFqj5UAlmPIRzClMLpQT8G+/UxwrF8v9HWw=='\n",
    "    #ServiceKey는 url decode 한 값임. \n",
    "    params = { \n",
    "        'serviceKey' : api_key, \n",
    "        'pageNo' : '1',\n",
    "        'numOfRows' : 10,\n",
    "        'startCreateDt' : start_day, \n",
    "        'endCreateDt' : end_day, \n",
    "    } \n",
    "    res = requests.get(url, params=params) \n",
    "    if (res.status_code == 200): \n",
    "        # Ordered dictionary type \n",
    "        result = xmltodict.parse(res.text) \n",
    "        \n",
    "        #dictionlay type \n",
    "        data = json.loads(json.dumps(result)) \n",
    "        leng = int(data['response']['body']['totalCount'])\n",
    "        values, yesterdays = [], [0, 0, 0, 0]\n",
    "        today_columns = ['Confirmed', 'Deaths', 'Recovered', 'Testeing']\n",
    "        \n",
    "        for i in reversed(range(leng)):\n",
    "            day = data['response']['body']['items']['item'][i][\"stateDt\"]\n",
    "            times = data['response']['body']['items']['item'][i][\"stateTime\"]\n",
    "            t = datetime.datetime(int(day[0:4]), int(day[4:6]), int(day[6:]), int(times[0:2]),0,0,0)\n",
    "            time = t.strftime(\"%Y%m%dT%H:%M:%SZ\")\n",
    "            Confirmed = int(data['response']['body']['items']['item'][i]['decideCnt'])\n",
    "            Deaths = int(data['response']['body']['items']['item'][i]['deathCnt']) \n",
    "            Recovered = int(data['response']['body']['items']['item'][i]['clearCnt'])\n",
    "            Testing = int(data['response']['body']['items']['item'][i]['examCnt'])   \n",
    "            try:\n",
    "                Tested = int(data['response']['body']['items']['item'][i]['accExamCnt'])\n",
    "            except KeyError as e:\n",
    "                Tested = 0\n",
    "            try:\n",
    "                Negative = int(data['response']['body']['items']['item'][i]['resutlNegCnt'])\n",
    "            except KeyError as e:\n",
    "                Negative = 0\n",
    "\n",
    "\n",
    "            # 전날과 비교 값\n",
    "            tConfirmed = Confirmed - yesterdays[0]\n",
    "            tDeaths = Deaths - yesterdays[1]\n",
    "            tRecovered = Recovered - yesterdays[2]\n",
    "            tTesting = Testing - yesterdays[3]\n",
    "\n",
    "            # 전날 데이터 최신화\n",
    "            yesterdays[0] = Confirmed\n",
    "            yesterdays[1] = Deaths\n",
    "            yesterdays[2] = Recovered\n",
    "            yesterdays[3] = Testing\n",
    "\n",
    "\n",
    "            if len(values) > 1:\n",
    "                if day != values[-1][0][0:8]:\n",
    "                    values.append((time, Confirmed, Deaths, Recovered, Tested, Testing, Negative, tConfirmed, tDeaths, tRecovered, tTesting))\n",
    "            else:\n",
    "                values.append((time, Confirmed, Deaths, Recovered, Tested, Testing, Negative, tConfirmed, tDeaths, tRecovered, tTesting))\n",
    "\n",
    "\n",
    "        columns = ['time', 'Confirmed', 'Deaths', 'Recovered', 'Tested', 'Testing', 'Negative', 'tConfirmed', 'tDeaths', 'tRecovered', 'tTesting']        \n",
    "        df = pd.DataFrame(values, columns=columns)\n",
    "\n",
    "    else: \n",
    "        print('res.status_code is NOT ok') \n",
    "    \n",
    "    return df"
   ]
  },
  {
   "cell_type": "code",
   "execution_count": 35,
   "metadata": {},
   "outputs": [
    {
     "output_type": "execute_result",
     "data": {
      "text/plain": "                 time  Confirmed  Deaths  Recovered   Tested  Testing  \\\n0  20210224T00:00:00Z      88120    1576      79050  6510988    74988   \n1  20210225T00:00:00Z      88515    1581      79487  6551213    68672   \n2  20210226T00:00:00Z      88905    1585      79880  6590049    68942   \n3  20210227T00:00:00Z      89320    1595      80333  6627214    68989   \n4  20210228T00:00:00Z      89676    1603      80697  6649006    72889   \n\n   Negative  tConfirmed  tDeaths  tRecovered  tTesting  \n0   6347880       88120     1576       79050     74988  \n1   6394026         395        5         437     -6316  \n2   6432202         390        4         393       270  \n3   6468905         415       10         453        47  \n4   6486441         356        8         364      3900  ",
      "text/html": "<div>\n<style scoped>\n    .dataframe tbody tr th:only-of-type {\n        vertical-align: middle;\n    }\n\n    .dataframe tbody tr th {\n        vertical-align: top;\n    }\n\n    .dataframe thead th {\n        text-align: right;\n    }\n</style>\n<table border=\"1\" class=\"dataframe\">\n  <thead>\n    <tr style=\"text-align: right;\">\n      <th></th>\n      <th>time</th>\n      <th>Confirmed</th>\n      <th>Deaths</th>\n      <th>Recovered</th>\n      <th>Tested</th>\n      <th>Testing</th>\n      <th>Negative</th>\n      <th>tConfirmed</th>\n      <th>tDeaths</th>\n      <th>tRecovered</th>\n      <th>tTesting</th>\n    </tr>\n  </thead>\n  <tbody>\n    <tr>\n      <th>0</th>\n      <td>20210224T00:00:00Z</td>\n      <td>88120</td>\n      <td>1576</td>\n      <td>79050</td>\n      <td>6510988</td>\n      <td>74988</td>\n      <td>6347880</td>\n      <td>88120</td>\n      <td>1576</td>\n      <td>79050</td>\n      <td>74988</td>\n    </tr>\n    <tr>\n      <th>1</th>\n      <td>20210225T00:00:00Z</td>\n      <td>88515</td>\n      <td>1581</td>\n      <td>79487</td>\n      <td>6551213</td>\n      <td>68672</td>\n      <td>6394026</td>\n      <td>395</td>\n      <td>5</td>\n      <td>437</td>\n      <td>-6316</td>\n    </tr>\n    <tr>\n      <th>2</th>\n      <td>20210226T00:00:00Z</td>\n      <td>88905</td>\n      <td>1585</td>\n      <td>79880</td>\n      <td>6590049</td>\n      <td>68942</td>\n      <td>6432202</td>\n      <td>390</td>\n      <td>4</td>\n      <td>393</td>\n      <td>270</td>\n    </tr>\n    <tr>\n      <th>3</th>\n      <td>20210227T00:00:00Z</td>\n      <td>89320</td>\n      <td>1595</td>\n      <td>80333</td>\n      <td>6627214</td>\n      <td>68989</td>\n      <td>6468905</td>\n      <td>415</td>\n      <td>10</td>\n      <td>453</td>\n      <td>47</td>\n    </tr>\n    <tr>\n      <th>4</th>\n      <td>20210228T00:00:00Z</td>\n      <td>89676</td>\n      <td>1603</td>\n      <td>80697</td>\n      <td>6649006</td>\n      <td>72889</td>\n      <td>6486441</td>\n      <td>356</td>\n      <td>8</td>\n      <td>364</td>\n      <td>3900</td>\n    </tr>\n  </tbody>\n</table>\n</div>"
     },
     "metadata": {},
     "execution_count": 35
    }
   ],
   "source": [
    "today = datetime.datetime.now() \n",
    "day1 = today.strftime(\"%Y%m%d\") \n",
    "# day2 = '20200203'\n",
    "day2 = '20210224'\n",
    "\n",
    "ret = get_Covid19_KR(day1, day2) # '20200203' 부터\n",
    "ret.to_csv('data/Covid19_KR3.csv', sep=',', na_rep='NaN')\n",
    "ret.head()"
   ]
  },
  {
   "cell_type": "code",
   "execution_count": 23,
   "metadata": {
    "tags": []
   },
   "outputs": [],
   "source": [
    "# 보건복지부_코로나19 시·도발생_현황\n",
    "def get_Covid19_KR_Sido(end_day, start_day): \n",
    "    url='http://openapi.data.go.kr/openapi/service/rest/Covid19/getCovid19SidoInfStateJson' \n",
    "    api_key = '41cYgMWSvkL+jGmAZC/qLP0wimM1uABR3s2ehXnFqosoJBesTnXIFqj5UAlmPIRzClMLpQT8G+/UxwrF8v9HWw=='\n",
    "    #ServiceKey는 url decode 한 값임. \n",
    "    params = { \n",
    "        'serviceKey' : api_key, \n",
    "        'pageNo' : '1',\n",
    "        'numOfRows' : 10,\n",
    "        'startCreateDt' : start_day, \n",
    "        'endCreateDt' : end_day, \n",
    "    } \n",
    "    res = requests.get(url, params=params) \n",
    "    if (res.status_code == 200): \n",
    "        # Ordered dictionary type \n",
    "        result = xmltodict.parse(res.text) \n",
    "        #dictionlay type \n",
    "        data = json.loads(json.dumps(result))         \n",
    "        leng = int(data['response']['body']['totalCount'])\n",
    "        values = []\n",
    "        # print('지역\\t확진자\\t사망자\\t격리해제\\t발생률*')\n",
    "        for i in range(leng):\n",
    "            day = data['response']['body']['items']['item'][i][\"stdDay\"]\n",
    "            times = day.split()\n",
    "            t = datetime.datetime(int(times[0][0:-1]), int(times[1][0:-1]), int(times[2][0:-1]), int(times[3][0:-1]),0,0,0)\n",
    "            time = t.strftime(\"%Y%m%dT%H:%M:%SZ\")\n",
    "            City = data['response']['body']['items']['item'][i]['gubun']\n",
    "            Confirmed = data['response']['body']['items']['item'][i]['defCnt']\n",
    "            Death = data['response']['body']['items']['item'][i]['deathCnt']\n",
    "            Incidence = data['response']['body']['items']['item'][i]['qurRate']\n",
    "            try:\n",
    "                Recovered = data['response']['body']['items']['item'][i]['isolClearCnt']\n",
    "            except KeyError as e:\n",
    "                Recovered = 0\n",
    "                \n",
    "            values.append((time, City, Confirmed, Death, Recovered, Incidence))\n",
    "\n",
    "        values = list(reversed(values))\n",
    "        columns = ['time', 'City', 'Confirmed', 'Death', 'Recovered', 'Incidence']\n",
    "        df = pd.DataFrame(values, columns=columns)\n",
    "        \n",
    "    else: \n",
    "        print('res.status_code is NOT ok') \n",
    "\n",
    "    return df"
   ]
  },
  {
   "cell_type": "code",
   "execution_count": 24,
   "metadata": {
    "tags": []
   },
   "outputs": [
    {
     "output_type": "execute_result",
     "data": {
      "text/plain": "                 time City Confirmed Death Recovered Incidence\n0  20210225T00:00:00Z   합계     88516  1581     79487    170.72\n1  20210225T00:00:00Z   서울     27857   373     24652    286.20\n2  20210225T00:00:00Z   부산      3198   105      2814     93.73\n3  20210225T00:00:00Z   대구      8602   213      8264    353.05\n4  20210225T00:00:00Z   인천      4376    52      4048    148.03",
      "text/html": "<div>\n<style scoped>\n    .dataframe tbody tr th:only-of-type {\n        vertical-align: middle;\n    }\n\n    .dataframe tbody tr th {\n        vertical-align: top;\n    }\n\n    .dataframe thead th {\n        text-align: right;\n    }\n</style>\n<table border=\"1\" class=\"dataframe\">\n  <thead>\n    <tr style=\"text-align: right;\">\n      <th></th>\n      <th>time</th>\n      <th>City</th>\n      <th>Confirmed</th>\n      <th>Death</th>\n      <th>Recovered</th>\n      <th>Incidence</th>\n    </tr>\n  </thead>\n  <tbody>\n    <tr>\n      <th>0</th>\n      <td>20210225T00:00:00Z</td>\n      <td>합계</td>\n      <td>88516</td>\n      <td>1581</td>\n      <td>79487</td>\n      <td>170.72</td>\n    </tr>\n    <tr>\n      <th>1</th>\n      <td>20210225T00:00:00Z</td>\n      <td>서울</td>\n      <td>27857</td>\n      <td>373</td>\n      <td>24652</td>\n      <td>286.20</td>\n    </tr>\n    <tr>\n      <th>2</th>\n      <td>20210225T00:00:00Z</td>\n      <td>부산</td>\n      <td>3198</td>\n      <td>105</td>\n      <td>2814</td>\n      <td>93.73</td>\n    </tr>\n    <tr>\n      <th>3</th>\n      <td>20210225T00:00:00Z</td>\n      <td>대구</td>\n      <td>8602</td>\n      <td>213</td>\n      <td>8264</td>\n      <td>353.05</td>\n    </tr>\n    <tr>\n      <th>4</th>\n      <td>20210225T00:00:00Z</td>\n      <td>인천</td>\n      <td>4376</td>\n      <td>52</td>\n      <td>4048</td>\n      <td>148.03</td>\n    </tr>\n  </tbody>\n</table>\n</div>"
     },
     "metadata": {},
     "execution_count": 24
    }
   ],
   "source": [
    "today = datetime.datetime.now() \n",
    "day1 = today.strftime(\"%Y%m%d\") \n",
    "# day2 = '20200304'\n",
    "day2 = '20210225'\n",
    "\n",
    "\n",
    "ret = get_Covid19_KR_Sido(day1, day2) # '20200304' 부터\n",
    "ret.to_csv('data/Covid19_KR_Sido2.csv', sep=',', na_rep='NaN')\n",
    "ret.head()"
   ]
  },
  {
   "cell_type": "code",
   "execution_count": 25,
   "metadata": {},
   "outputs": [],
   "source": [
    "# 보건복지부_코로나19해외발생_현황\n",
    "def get_Covid19_GB(end_day, start_day): \n",
    "    url='http://openapi.data.go.kr/openapi/service/rest/Covid19/getCovid19NatInfStateJson' \n",
    "    api_key = '41cYgMWSvkL+jGmAZC/qLP0wimM1uABR3s2ehXnFqosoJBesTnXIFqj5UAlmPIRzClMLpQT8G+/UxwrF8v9HWw=='\n",
    "    #ServiceKey는 url decode 한 값임. \n",
    "    params = { \n",
    "        'serviceKey' : api_key, \n",
    "        'pageNo' : '1',\n",
    "        'numOfRows' : 10,\n",
    "        'startCreateDt' : start_day, \n",
    "        'endCreateDt' : end_day, \n",
    "    } \n",
    "    res = requests.get(url, params=params) \n",
    "    if (res.status_code == 200): \n",
    "        # Ordered dictionary type \n",
    "        result = xmltodict.parse(res.text) \n",
    "        #dictionlay type \n",
    "        data = json.loads(json.dumps(result))         \n",
    "        leng = int(data['response']['body']['totalCount'])\n",
    "        values = []\n",
    "        print('나라\\t확진자\\t사망자\\t사망률')\n",
    "        for i in range(leng):\n",
    "            day = data['response']['body']['items']['item'][i][\"stdDay\"]\n",
    "            times = day.split()\n",
    "            t = datetime.datetime(int(times[0][0:-1]), int(times[1][0:-1]), int(times[2][0:-1]), int(times[3][0:-1]),0,0,0)\n",
    "            time = t.strftime(\"%Y%m%dT%H:%M:%SZ\")\n",
    "            nationNm = data['response']['body']['items']['item'][i]['nationNm']\n",
    "            natDefCnt = data['response']['body']['items']['item'][i]['natDefCnt']\n",
    "            natDeathCnt = data['response']['body']['items']['item'][i]['natDeathCnt']\n",
    "\n",
    "            if data['response']['body']['items']['item'][i]['natDeathRate'] == 'NaN':\n",
    "                natDeathRate = 0.0\n",
    "            else:\n",
    "                natDeathRate = data['response']['body']['items']['item'][i]['natDeathRate']\n",
    "            \n",
    "            if data['response']['body']['items']['item'][i]['nationNmEn'] == None:\n",
    "                nationNmEn = 'missing'\n",
    "            else:\n",
    "                nationNmEn = data['response']['body']['items']['item'][i]['nationNmEn']\n",
    "            \n",
    "            \n",
    "            values.append((time, nationNm, nationNmEn, natDefCnt, natDeathCnt, natDeathRate))\n",
    "\n",
    "        values = list(reversed(values))\n",
    "        values = values[1:]\n",
    "        columns = ['time', 'nationNm', 'nationNmEn', 'natDefCnt', 'natDeathCnt', 'natDeathRate']\n",
    "        df = pd.DataFrame(values, columns=columns)\n",
    "        \n",
    "    else: \n",
    "        print('res.status_code is NOT ok') \n",
    "\n",
    "    return df"
   ]
  },
  {
   "cell_type": "code",
   "execution_count": 26,
   "metadata": {
    "tags": []
   },
   "outputs": [
    {
     "output_type": "stream",
     "name": "stdout",
     "text": "나라\t확진자\t사망자\t사망률\n"
    },
    {
     "output_type": "execute_result",
     "data": {
      "text/plain": "                 time nationNm nationNmEn natDefCnt natDeathCnt  natDeathRate\n0  20210225T09:00:00Z       중국      China     89871        4636  5.1585049682\n1  20210225T09:00:00Z       홍콩  Hong Kong     10913         198  1.8143498579\n2  20210225T09:00:00Z       대만     Taiwan       946           9  0.9513742071\n3  20210225T09:00:00Z      마카오      Macau        48           0           0.0\n4  20210225T09:00:00Z       일본      Japan    427467        7584  1.7741720413",
      "text/html": "<div>\n<style scoped>\n    .dataframe tbody tr th:only-of-type {\n        vertical-align: middle;\n    }\n\n    .dataframe tbody tr th {\n        vertical-align: top;\n    }\n\n    .dataframe thead th {\n        text-align: right;\n    }\n</style>\n<table border=\"1\" class=\"dataframe\">\n  <thead>\n    <tr style=\"text-align: right;\">\n      <th></th>\n      <th>time</th>\n      <th>nationNm</th>\n      <th>nationNmEn</th>\n      <th>natDefCnt</th>\n      <th>natDeathCnt</th>\n      <th>natDeathRate</th>\n    </tr>\n  </thead>\n  <tbody>\n    <tr>\n      <th>0</th>\n      <td>20210225T09:00:00Z</td>\n      <td>중국</td>\n      <td>China</td>\n      <td>89871</td>\n      <td>4636</td>\n      <td>5.1585049682</td>\n    </tr>\n    <tr>\n      <th>1</th>\n      <td>20210225T09:00:00Z</td>\n      <td>홍콩</td>\n      <td>Hong Kong</td>\n      <td>10913</td>\n      <td>198</td>\n      <td>1.8143498579</td>\n    </tr>\n    <tr>\n      <th>2</th>\n      <td>20210225T09:00:00Z</td>\n      <td>대만</td>\n      <td>Taiwan</td>\n      <td>946</td>\n      <td>9</td>\n      <td>0.9513742071</td>\n    </tr>\n    <tr>\n      <th>3</th>\n      <td>20210225T09:00:00Z</td>\n      <td>마카오</td>\n      <td>Macau</td>\n      <td>48</td>\n      <td>0</td>\n      <td>0.0</td>\n    </tr>\n    <tr>\n      <th>4</th>\n      <td>20210225T09:00:00Z</td>\n      <td>일본</td>\n      <td>Japan</td>\n      <td>427467</td>\n      <td>7584</td>\n      <td>1.7741720413</td>\n    </tr>\n  </tbody>\n</table>\n</div>"
     },
     "metadata": {},
     "execution_count": 26
    }
   ],
   "source": [
    "today = datetime.datetime.now() \n",
    "day1 = today.strftime(\"%Y%m%d\") \n",
    "day2 = '20200316'\n",
    "day2 = '20210225'\n",
    "\n",
    "ret = get_Covid19_GB(day1, day2) # '20200316' 부터\n",
    "ret.to_csv('data/Covid19_GB2.csv', sep=',', na_rep='NaN')\n",
    "ret.head()"
   ]
  },
  {
   "cell_type": "code",
   "execution_count": 27,
   "metadata": {},
   "outputs": [],
   "source": [
    "# 보건복지부_코로나19 연령별·성별감염_현황\n",
    "def get_Covid19_KR_GenAge(end_day, start_day): \n",
    "    url='http://openapi.data.go.kr/openapi/service/rest/Covid19/getCovid19GenAgeCaseInfJson' \n",
    "    api_key = '41cYgMWSvkL+jGmAZC/qLP0wimM1uABR3s2ehXnFqosoJBesTnXIFqj5UAlmPIRzClMLpQT8G+/UxwrF8v9HWw=='\n",
    "    #ServiceKey는 url decode 한 값임. \n",
    "    params = { \n",
    "        'serviceKey' : api_key, \n",
    "        'pageNo' : '1',\n",
    "        'numOfRows' : 10,\n",
    "        'startCreateDt' : start_day, \n",
    "        'endCreateDt' : end_day, \n",
    "    } \n",
    "    res = requests.get(url, params=params) \n",
    "    if (res.status_code == 200): \n",
    "        # Ordered dictionary type \n",
    "        result = xmltodict.parse(res.text) \n",
    "        #dictionlay type \n",
    "        data = json.loads(json.dumps(result))         \n",
    "        leng = int(data['response']['body']['totalCount'])\n",
    "        values = []\n",
    "        for i in range(leng):\n",
    "            t = data['response']['body']['items']['item'][i]['createDt'].split()\n",
    "            day = t[0].split('-')\n",
    "            times =  t[1].split(':')\n",
    "            t = datetime.datetime(int(day[0]), int(day[1]), int(day[2]), int(times[0]),0,0,0)\n",
    "            time = t.strftime(\"%Y%m%dT%H:%M:%SZ\")\n",
    "            gubun = data['response']['body']['items']['item'][i]['gubun']               # 구분\n",
    "            confCase = data['response']['body']['items']['item'][i]['confCase']         # 확진자\n",
    "            confCaseRate = data['response']['body']['items']['item'][i]['confCaseRate'] # 확진률\n",
    "            death = data['response']['body']['items']['item'][i]['death']               # 사망자\n",
    "            deathRate = data['response']['body']['items']['item'][i]['deathRate']       # 사망률\n",
    "            criticalRate = data['response']['body']['items']['item'][i]['criticalRate'] # 치명률\n",
    "\n",
    "            values.append((time, gubun, confCase, confCaseRate, death, deathRate, criticalRate))\n",
    "\n",
    "        values = list(reversed(values))\n",
    "        columns = ['time', 'gubun', 'confCase', 'confCaseRate', 'death', 'deathRate', 'criticalRate']\n",
    "        df = pd.DataFrame(values, columns=columns)\n",
    "        \n",
    "    else: \n",
    "        print('res.status_code is NOT ok') \n",
    "\n",
    "    return df"
   ]
  },
  {
   "cell_type": "code",
   "execution_count": 28,
   "metadata": {
    "tags": []
   },
   "outputs": [
    {
     "output_type": "execute_result",
     "data": {
      "text/plain": "                  time  gubun confCase confCaseRate death deathRate  \\\n0   20210225T14:00:00Z     남성    43633        49.29   786     49.72   \n1   20210225T14:00:00Z     여성    44883        50.71   795     50.28   \n2   20210225T14:00:00Z  80 이상     4340          4.9   895     56.61   \n3   20210225T14:00:00Z  70-79     6740         7.61   432     27.32   \n4   20210225T14:00:00Z  60-69    13862        15.66   183     11.57   \n5   20210225T14:00:00Z  50-59    16471        18.61    52      3.29   \n6   20210225T14:00:00Z  40-49    12683        14.33    12      0.76   \n7   20210225T14:00:00Z  30-39    11529        13.02     6      0.38   \n8   20210225T14:00:00Z  20-29    13372        15.11     1      0.06   \n9   20210225T14:00:00Z  10-19     5944         6.72     0      0.00   \n10  20210225T14:00:00Z    0-9     3575         4.04     0      0.00   \n11  20210226T14:00:00Z     남성    43838         49.3   787     49.65   \n12  20210226T14:00:00Z     여성    45084         50.7   798     50.35   \n13  20210226T14:00:00Z  80 이상     4355          4.9   897     56.59   \n14  20210226T14:00:00Z  70-79     6764         7.61   433     27.32   \n15  20210226T14:00:00Z  60-69    13928        15.66   184     11.61   \n16  20210226T14:00:00Z  50-59    16550        18.61    52      3.28   \n17  20210226T14:00:00Z  40-49    12741        14.33    12      0.76   \n18  20210226T14:00:00Z  30-39    11596        13.04     6      0.38   \n19  20210226T14:00:00Z  20-29    13428         15.1     1      0.06   \n20  20210226T14:00:00Z  10-19     5972         6.72     0      0.00   \n21  20210226T14:00:00Z    0-9     3588         4.03     0      0.00   \n22  20210227T14:00:00Z     남성    44040        49.31   794     49.78   \n23  20210227T14:00:00Z     여성    45281        50.69   801     50.22   \n24  20210227T14:00:00Z  80 이상     4364         4.89   903     56.61   \n25  20210227T14:00:00Z  70-79     6787          7.6   435     27.27   \n26  20210227T14:00:00Z  60-69    13977        15.65   184     11.54   \n27  20210227T14:00:00Z  50-59    16618         18.6    53      3.32   \n28  20210227T14:00:00Z  40-49    12800        14.33    13      0.82   \n29  20210227T14:00:00Z  30-39    11667        13.06     6      0.38   \n30  20210227T14:00:00Z  20-29    13496        15.11     1      0.06   \n31  20210227T14:00:00Z  10-19     6002         6.72     0      0.00   \n32  20210227T14:00:00Z    0-9     3610         4.04     0      0.00   \n\n   criticalRate  \n0           1.8  \n1          1.77  \n2         20.62  \n3          6.41  \n4          1.32  \n5          0.32  \n6          0.09  \n7          0.05  \n8          0.01  \n9             0  \n10            0  \n11          1.8  \n12         1.77  \n13         20.6  \n14          6.4  \n15         1.32  \n16         0.31  \n17         0.09  \n18         0.05  \n19         0.01  \n20            0  \n21            0  \n22          1.8  \n23         1.77  \n24        20.69  \n25         6.41  \n26         1.32  \n27         0.32  \n28          0.1  \n29         0.05  \n30         0.01  \n31            0  \n32            0  ",
      "text/html": "<div>\n<style scoped>\n    .dataframe tbody tr th:only-of-type {\n        vertical-align: middle;\n    }\n\n    .dataframe tbody tr th {\n        vertical-align: top;\n    }\n\n    .dataframe thead th {\n        text-align: right;\n    }\n</style>\n<table border=\"1\" class=\"dataframe\">\n  <thead>\n    <tr style=\"text-align: right;\">\n      <th></th>\n      <th>time</th>\n      <th>gubun</th>\n      <th>confCase</th>\n      <th>confCaseRate</th>\n      <th>death</th>\n      <th>deathRate</th>\n      <th>criticalRate</th>\n    </tr>\n  </thead>\n  <tbody>\n    <tr>\n      <th>0</th>\n      <td>20210225T14:00:00Z</td>\n      <td>남성</td>\n      <td>43633</td>\n      <td>49.29</td>\n      <td>786</td>\n      <td>49.72</td>\n      <td>1.8</td>\n    </tr>\n    <tr>\n      <th>1</th>\n      <td>20210225T14:00:00Z</td>\n      <td>여성</td>\n      <td>44883</td>\n      <td>50.71</td>\n      <td>795</td>\n      <td>50.28</td>\n      <td>1.77</td>\n    </tr>\n    <tr>\n      <th>2</th>\n      <td>20210225T14:00:00Z</td>\n      <td>80 이상</td>\n      <td>4340</td>\n      <td>4.9</td>\n      <td>895</td>\n      <td>56.61</td>\n      <td>20.62</td>\n    </tr>\n    <tr>\n      <th>3</th>\n      <td>20210225T14:00:00Z</td>\n      <td>70-79</td>\n      <td>6740</td>\n      <td>7.61</td>\n      <td>432</td>\n      <td>27.32</td>\n      <td>6.41</td>\n    </tr>\n    <tr>\n      <th>4</th>\n      <td>20210225T14:00:00Z</td>\n      <td>60-69</td>\n      <td>13862</td>\n      <td>15.66</td>\n      <td>183</td>\n      <td>11.57</td>\n      <td>1.32</td>\n    </tr>\n    <tr>\n      <th>5</th>\n      <td>20210225T14:00:00Z</td>\n      <td>50-59</td>\n      <td>16471</td>\n      <td>18.61</td>\n      <td>52</td>\n      <td>3.29</td>\n      <td>0.32</td>\n    </tr>\n    <tr>\n      <th>6</th>\n      <td>20210225T14:00:00Z</td>\n      <td>40-49</td>\n      <td>12683</td>\n      <td>14.33</td>\n      <td>12</td>\n      <td>0.76</td>\n      <td>0.09</td>\n    </tr>\n    <tr>\n      <th>7</th>\n      <td>20210225T14:00:00Z</td>\n      <td>30-39</td>\n      <td>11529</td>\n      <td>13.02</td>\n      <td>6</td>\n      <td>0.38</td>\n      <td>0.05</td>\n    </tr>\n    <tr>\n      <th>8</th>\n      <td>20210225T14:00:00Z</td>\n      <td>20-29</td>\n      <td>13372</td>\n      <td>15.11</td>\n      <td>1</td>\n      <td>0.06</td>\n      <td>0.01</td>\n    </tr>\n    <tr>\n      <th>9</th>\n      <td>20210225T14:00:00Z</td>\n      <td>10-19</td>\n      <td>5944</td>\n      <td>6.72</td>\n      <td>0</td>\n      <td>0.00</td>\n      <td>0</td>\n    </tr>\n    <tr>\n      <th>10</th>\n      <td>20210225T14:00:00Z</td>\n      <td>0-9</td>\n      <td>3575</td>\n      <td>4.04</td>\n      <td>0</td>\n      <td>0.00</td>\n      <td>0</td>\n    </tr>\n    <tr>\n      <th>11</th>\n      <td>20210226T14:00:00Z</td>\n      <td>남성</td>\n      <td>43838</td>\n      <td>49.3</td>\n      <td>787</td>\n      <td>49.65</td>\n      <td>1.8</td>\n    </tr>\n    <tr>\n      <th>12</th>\n      <td>20210226T14:00:00Z</td>\n      <td>여성</td>\n      <td>45084</td>\n      <td>50.7</td>\n      <td>798</td>\n      <td>50.35</td>\n      <td>1.77</td>\n    </tr>\n    <tr>\n      <th>13</th>\n      <td>20210226T14:00:00Z</td>\n      <td>80 이상</td>\n      <td>4355</td>\n      <td>4.9</td>\n      <td>897</td>\n      <td>56.59</td>\n      <td>20.6</td>\n    </tr>\n    <tr>\n      <th>14</th>\n      <td>20210226T14:00:00Z</td>\n      <td>70-79</td>\n      <td>6764</td>\n      <td>7.61</td>\n      <td>433</td>\n      <td>27.32</td>\n      <td>6.4</td>\n    </tr>\n    <tr>\n      <th>15</th>\n      <td>20210226T14:00:00Z</td>\n      <td>60-69</td>\n      <td>13928</td>\n      <td>15.66</td>\n      <td>184</td>\n      <td>11.61</td>\n      <td>1.32</td>\n    </tr>\n    <tr>\n      <th>16</th>\n      <td>20210226T14:00:00Z</td>\n      <td>50-59</td>\n      <td>16550</td>\n      <td>18.61</td>\n      <td>52</td>\n      <td>3.28</td>\n      <td>0.31</td>\n    </tr>\n    <tr>\n      <th>17</th>\n      <td>20210226T14:00:00Z</td>\n      <td>40-49</td>\n      <td>12741</td>\n      <td>14.33</td>\n      <td>12</td>\n      <td>0.76</td>\n      <td>0.09</td>\n    </tr>\n    <tr>\n      <th>18</th>\n      <td>20210226T14:00:00Z</td>\n      <td>30-39</td>\n      <td>11596</td>\n      <td>13.04</td>\n      <td>6</td>\n      <td>0.38</td>\n      <td>0.05</td>\n    </tr>\n    <tr>\n      <th>19</th>\n      <td>20210226T14:00:00Z</td>\n      <td>20-29</td>\n      <td>13428</td>\n      <td>15.1</td>\n      <td>1</td>\n      <td>0.06</td>\n      <td>0.01</td>\n    </tr>\n    <tr>\n      <th>20</th>\n      <td>20210226T14:00:00Z</td>\n      <td>10-19</td>\n      <td>5972</td>\n      <td>6.72</td>\n      <td>0</td>\n      <td>0.00</td>\n      <td>0</td>\n    </tr>\n    <tr>\n      <th>21</th>\n      <td>20210226T14:00:00Z</td>\n      <td>0-9</td>\n      <td>3588</td>\n      <td>4.03</td>\n      <td>0</td>\n      <td>0.00</td>\n      <td>0</td>\n    </tr>\n    <tr>\n      <th>22</th>\n      <td>20210227T14:00:00Z</td>\n      <td>남성</td>\n      <td>44040</td>\n      <td>49.31</td>\n      <td>794</td>\n      <td>49.78</td>\n      <td>1.8</td>\n    </tr>\n    <tr>\n      <th>23</th>\n      <td>20210227T14:00:00Z</td>\n      <td>여성</td>\n      <td>45281</td>\n      <td>50.69</td>\n      <td>801</td>\n      <td>50.22</td>\n      <td>1.77</td>\n    </tr>\n    <tr>\n      <th>24</th>\n      <td>20210227T14:00:00Z</td>\n      <td>80 이상</td>\n      <td>4364</td>\n      <td>4.89</td>\n      <td>903</td>\n      <td>56.61</td>\n      <td>20.69</td>\n    </tr>\n    <tr>\n      <th>25</th>\n      <td>20210227T14:00:00Z</td>\n      <td>70-79</td>\n      <td>6787</td>\n      <td>7.6</td>\n      <td>435</td>\n      <td>27.27</td>\n      <td>6.41</td>\n    </tr>\n    <tr>\n      <th>26</th>\n      <td>20210227T14:00:00Z</td>\n      <td>60-69</td>\n      <td>13977</td>\n      <td>15.65</td>\n      <td>184</td>\n      <td>11.54</td>\n      <td>1.32</td>\n    </tr>\n    <tr>\n      <th>27</th>\n      <td>20210227T14:00:00Z</td>\n      <td>50-59</td>\n      <td>16618</td>\n      <td>18.6</td>\n      <td>53</td>\n      <td>3.32</td>\n      <td>0.32</td>\n    </tr>\n    <tr>\n      <th>28</th>\n      <td>20210227T14:00:00Z</td>\n      <td>40-49</td>\n      <td>12800</td>\n      <td>14.33</td>\n      <td>13</td>\n      <td>0.82</td>\n      <td>0.1</td>\n    </tr>\n    <tr>\n      <th>29</th>\n      <td>20210227T14:00:00Z</td>\n      <td>30-39</td>\n      <td>11667</td>\n      <td>13.06</td>\n      <td>6</td>\n      <td>0.38</td>\n      <td>0.05</td>\n    </tr>\n    <tr>\n      <th>30</th>\n      <td>20210227T14:00:00Z</td>\n      <td>20-29</td>\n      <td>13496</td>\n      <td>15.11</td>\n      <td>1</td>\n      <td>0.06</td>\n      <td>0.01</td>\n    </tr>\n    <tr>\n      <th>31</th>\n      <td>20210227T14:00:00Z</td>\n      <td>10-19</td>\n      <td>6002</td>\n      <td>6.72</td>\n      <td>0</td>\n      <td>0.00</td>\n      <td>0</td>\n    </tr>\n    <tr>\n      <th>32</th>\n      <td>20210227T14:00:00Z</td>\n      <td>0-9</td>\n      <td>3610</td>\n      <td>4.04</td>\n      <td>0</td>\n      <td>0.00</td>\n      <td>0</td>\n    </tr>\n  </tbody>\n</table>\n</div>"
     },
     "metadata": {},
     "execution_count": 28
    }
   ],
   "source": [
    "today = datetime.datetime.now() \n",
    "day1 = today.strftime(\"%Y%m%d\") \n",
    "day2 = '20200408'\n",
    "day2 = '20210225'\n",
    "\n",
    "ret = get_Covid19_KR_GenAge(day1, day2) # '20200408' 부터\n",
    "ret.to_csv('data/Covid19_KR_GenAge2.csv', sep=',', na_rep='NaN')\n",
    "ret"
   ]
  },
  {
   "cell_type": "code",
   "execution_count": null,
   "metadata": {},
   "outputs": [],
   "source": []
  }
 ],
 "metadata": {
  "language_info": {
   "codemirror_mode": {
    "name": "ipython",
    "version": 3
   },
   "file_extension": ".py",
   "mimetype": "text/x-python",
   "name": "python",
   "nbconvert_exporter": "python",
   "pygments_lexer": "ipython3",
   "version": 3
  },
  "orig_nbformat": 2,
  "kernelspec": {
   "name": "python_defaultSpec_1614211099204",
   "display_name": "Python 3.7.7 64-bit ('tc': venv)"
  }
 },
 "nbformat": 4,
 "nbformat_minor": 2
}
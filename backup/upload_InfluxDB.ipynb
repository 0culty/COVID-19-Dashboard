{
 "cells": [
  {
   "cell_type": "code",
   "execution_count": 5,
   "metadata": {},
   "outputs": [],
   "source": [
    "from datetime import datetime, timedelta\n",
    "import pprint\n",
    "import time\n",
    "from influxdb import InfluxDBClient\n",
    "from copy import deepcopy\n",
    "import pandas as pd\n",
    "\n",
    "host = 'ec2-54-146-80-82.compute-1.amazonaws.com'\n",
    "port = 8086\n",
    "user = 'root'\n",
    "passwd = 'root'\n",
    "dbName = 'Covid19'"
   ]
  },
  {
   "cell_type": "code",
   "execution_count": 6,
   "metadata": {},
   "outputs": [],
   "source": [
    "def connect_InfluxDB(db, host='ec2-54-146-80-82.compute-1.amazonaws.com', port=8086, user='root', passwd='root'):\n",
    "    # Create an object include information for connect to the InfluxDB\n",
    "    client = InfluxDBClient(host, port, user, passwd, db)\n",
    "\n",
    "    try:\n",
    "        # Try to Create database\n",
    "        client.create_database(db)\n",
    "\n",
    "        # If you can create database or have a database\n",
    "        # there is no problem connecting to the InfluxDB\n",
    "        print('Connection Successful')\n",
    "        print('=======================')\n",
    "        print('     Connection Info')\n",
    "        print('=======================')\n",
    "        print('host :', host)\n",
    "        print('port :', port)\n",
    "        print('username :', user)\n",
    "        print('database :', db)\n",
    "    except:\n",
    "        # Generate error if you can't create database (can't connect to ifdb)\n",
    "        print('Connection Failed')\n",
    "        pass\n",
    "\n",
    "    return client\n"
   ]
  },
  {
   "cell_type": "code",
   "execution_count": 7,
   "metadata": {},
   "outputs": [],
   "source": [
    "def save_Covid19_KR(ifdb):\n",
    "    tablename = 'Covid19_KR'\n",
    "\n",
    "    # Read csv data\n",
    "    data = pd.read_csv('data/Covid19_KR2.csv')\n",
    "    columns = data.columns.tolist()\n",
    "    fields = columns[1:]\n",
    "\n",
    "    # save points in the json_body\n",
    "    json_body = []\n",
    "    point = {\n",
    "        \"measurement\": tablename,\n",
    "        \"tags\": {\n",
    "            \"nationNm\": \"한국\",\n",
    "            \"nationNmEn\" : \"South Korea\"\n",
    "        },\n",
    "        \"fields\": {\n",
    "            # Initialize data to zero\n",
    "            \"Confirmed\" : 0, \n",
    "            \"Deaths\" : 0,\n",
    "            \"Recovered\" : 0,\n",
    "            \"Tested\" : 0,\n",
    "            \"Testing\" : 0, \n",
    "            \"Negative\" : 0,\n",
    "            \"tConfirmed\" : 0, \n",
    "            \"tDeaths\" : 0,\n",
    "            \"tRecovered\" : 0,\n",
    "            \"tTesting\" : 0\n",
    "        },\n",
    "        \"time\": None,\n",
    "    }\n",
    "\n",
    "    for _, row in data.iterrows():\n",
    "        # InfluxDB is based on UTC\n",
    "        # so it should be timed with KCT\n",
    "        time = row['time']\n",
    "        dt = datetime(int(time[0:4]), int(time[4:6]), int(time[6:8]), int(time[9:11]), int(time[12:14]), int(time[15:17]))\n",
    "        \n",
    "        np = deepcopy(point)\n",
    "        np['time'] = dt\n",
    "        for idx in range(1, len(row)):\n",
    "            np['fields'][fields[idx-1]] = row[fields[idx-1]]\n",
    "        \n",
    "        json_body.append(np)\n",
    "\n",
    "    # Write the data for 10 seconds on the influxDB at once\n",
    "    ifdb.write_points(json_body)\n",
    "    \n",
    "    # result = ifdb.query('select * from %s' % tablename)\n",
    "    # pprint.pprint(result.raw)\n"
   ]
  },
  {
   "cell_type": "code",
   "execution_count": 8,
   "metadata": {
    "tags": []
   },
   "outputs": [
    {
     "output_type": "stream",
     "name": "stdout",
     "text": "Connection Successful\n=======================\n     Connection Info\n=======================\nhost : ec2-54-146-80-82.compute-1.amazonaws.com\nport : 8086\nusername : root\ndatabase : Covid19\n"
    }
   ],
   "source": [
    "if __name__ == '__main__':\n",
    "\n",
    "    # Connect to InfluxDB\n",
    "    mydb = connect_InfluxDB(db=dbName, host=host, port=port, user=user, passwd=passwd)\n",
    "\n",
    "    # Write data to mydb\n",
    "    save_Covid19_KR(mydb)"
   ]
  },
  {
   "cell_type": "code",
   "execution_count": 9,
   "metadata": {},
   "outputs": [],
   "source": [
    "def save_Covid19_KR_Sido(ifdb):\n",
    "    tablename = 'Covid19_KR_Sido'\n",
    "\n",
    "    # Read csv data\n",
    "    data = pd.read_csv('data/Covid19_KR_Sido2.csv')\n",
    "    columns = data.columns.tolist()\n",
    "    fields = columns[1:]\n",
    "\n",
    "    # save points in the json_body\n",
    "    json_body = []\n",
    "    point = {\n",
    "        \"measurement\": tablename,\n",
    "        \"tags\": {\n",
    "            \"City\": 0\n",
    "        },\n",
    "        \"fields\": {\n",
    "            # Initialize data to zero\n",
    "            \"Confirmed\" : 0, \n",
    "            \"Death\" : 0,\n",
    "            \"Recovered\" : 0,\n",
    "            \"Incidence\" : 0\n",
    "        },\n",
    "        \"time\": None,\n",
    "    }\n",
    "\n",
    "    for _, row in data.iterrows():\n",
    "        # InfluxDB is based on UTC\n",
    "        # so it should be timed with KCT\n",
    "        time = row['time']\n",
    "        dt = datetime(int(time[0:4]), int(time[4:6]), int(time[6:8]), int(time[9:11]), int(time[12:14]), int(time[15:17]))\n",
    "        \n",
    "        np = deepcopy(point)\n",
    "        np['time'] = dt\n",
    "        np['tags']['City'] = row['City']\n",
    "        for idx in range(2, len(row)):\n",
    "            np['fields'][fields[idx-1]] = row[fields[idx-1]]\n",
    "        \n",
    "        json_body.append(np)\n",
    "\n",
    "    # Write the data for 10 seconds on the influxDB at once\n",
    "    ifdb.write_points(json_body)\n",
    "    \n",
    "    # result = ifdb.query('select * from %s' % tablename)\n",
    "    # pprint.pprint(result.raw)\n"
   ]
  },
  {
   "cell_type": "code",
   "execution_count": 10,
   "metadata": {
    "tags": []
   },
   "outputs": [
    {
     "output_type": "stream",
     "name": "stdout",
     "text": "Connection Successful\n=======================\n     Connection Info\n=======================\nhost : ec2-54-146-80-82.compute-1.amazonaws.com\nport : 8086\nusername : root\ndatabase : Covid19\n"
    }
   ],
   "source": [
    "if __name__ == '__main__':\n",
    "\n",
    "    # Connect to InfluxDB\n",
    "    mydb = connect_InfluxDB(db=dbName, host=host, port=port, user=user, passwd=passwd)\n",
    "\n",
    "    # Write data to mydb\n",
    "    save_Covid19_KR_Sido(mydb)"
   ]
  },
  {
   "cell_type": "code",
   "execution_count": 11,
   "metadata": {},
   "outputs": [],
   "source": [
    "def save_Covid19_GB(ifdb):\n",
    "    tablename = 'Covid19_GB'\n",
    "\n",
    "    # Read csv data\n",
    "    data = pd.read_csv('data/Covid19_GB2.csv')\n",
    "    columns = data.columns.tolist()\n",
    "    fields = columns[3:]\n",
    "    \n",
    "    # save points in the json_body\n",
    "    json_body = []\n",
    "    point = {\n",
    "        \"measurement\": tablename,\n",
    "        \"tags\": {\n",
    "            \"nationNm\": 0,\n",
    "            \"nationNmEn\" : 0\n",
    "        },\n",
    "        \"fields\": {\n",
    "            # Initialize data to zero\n",
    "            \"natDefCnt\" : 0, \n",
    "            \"natDeathCnt\" : 0,\n",
    "            \"natDeathRate\" : 0\n",
    "        },\n",
    "        \"time\": None,\n",
    "    }\n",
    "\n",
    "    for _, row in data.iterrows():\n",
    "        # InfluxDB is based on UTC\n",
    "        # so it should be timed with KCT\n",
    "        time = row['time']\n",
    "        dt = datetime(int(time[0:4]), int(time[4:6]), int(time[6:8]), int(time[9:11]), int(time[12:14]), int(time[15:17]))\n",
    "        \n",
    "        np = deepcopy(point)\n",
    "        np['time'] = dt\n",
    "        np['tags']['nationNm'] = row['nationNm']\n",
    "        np['tags']['nationNmEn'] = row['nationNmEn']\n",
    "        for idx in range(3, len(row)):\n",
    "            np['fields'][fields[idx-3]] = row[fields[idx-3]]\n",
    "        json_body.append(np)\n",
    "        \n",
    "    # Write the data for 10 seconds on the influxDB at once\n",
    "    ifdb.write_points(json_body)\n",
    "\n",
    "    # result = ifdb.query('select * from %s' % tablename)\n",
    "    # pprint.pprint(result.raw)\n"
   ]
  },
  {
   "cell_type": "code",
   "execution_count": 12,
   "metadata": {
    "tags": []
   },
   "outputs": [
    {
     "output_type": "stream",
     "name": "stdout",
     "text": "Connection Successful\n=======================\n     Connection Info\n=======================\nhost : ec2-54-146-80-82.compute-1.amazonaws.com\nport : 8086\nusername : root\ndatabase : Covid19\n"
    }
   ],
   "source": [
    "if __name__ == '__main__':\n",
    "\n",
    "    # Connect to InfluxDB\n",
    "    mydb = connect_InfluxDB(db=dbName, host=host, port=port, user=user, passwd=passwd)\n",
    "\n",
    "    # Write data to mydb\n",
    "    save_Covid19_GB(mydb)\n",
    "    "
   ]
  },
  {
   "cell_type": "code",
   "execution_count": 13,
   "metadata": {},
   "outputs": [],
   "source": [
    "def save_Covid19_KR_GenAge(ifdb):\n",
    "    tablename = 'Covid19_KR_GenAge'\n",
    "\n",
    "    # Read csv data\n",
    "    data = pd.read_csv('data/Covid19_KR_GenAge2.csv')\n",
    "    columns = data.columns.tolist()\n",
    "    fields = columns[1:]\n",
    "\n",
    "    # save points in the json_body\n",
    "    json_body = []\n",
    "    point = {\n",
    "        \"measurement\": tablename,\n",
    "        \"tags\": {\n",
    "            \"gubun\": 0\n",
    "        },\n",
    "        \"fields\": {\n",
    "            # Initialize data to zero\n",
    "            \"confCase\" : 0, \n",
    "            \"confCaseRate\" : 0,\n",
    "            \"death\" : 0, \n",
    "            \"deathRate\" : 0,\n",
    "            \"criticalRate\" : 0\n",
    "        },\n",
    "        \"time\": None,\n",
    "    }\n",
    "\n",
    "    for _, row in data.iterrows():\n",
    "        # InfluxDB is based on UTC\n",
    "        # so it should be timed with KCT\n",
    "        time = row['time']\n",
    "        dt = datetime(int(time[0:4]), int(time[4:6]), int(time[6:8]), int(time[9:11]), int(time[12:14]), int(time[15:17]))\n",
    "        \n",
    "        np = deepcopy(point)\n",
    "        np['time'] = dt\n",
    "        np['tags']['gubun'] = row['gubun']\n",
    "        for idx in range(2, len(row)):\n",
    "            np['fields'][fields[idx-1]] = row[fields[idx-1]]\n",
    "        \n",
    "        json_body.append(np)\n",
    "\n",
    "    # Write the data for 10 seconds on the influxDB at once\n",
    "    ifdb.write_points(json_body)\n",
    "    \n",
    "    # result = ifdb.query('select * from %s' % tablename)\n",
    "    # pprint.pprint(result.raw)\n"
   ]
  },
  {
   "cell_type": "code",
   "execution_count": 14,
   "metadata": {
    "tags": []
   },
   "outputs": [
    {
     "output_type": "stream",
     "name": "stdout",
     "text": "Connection Successful\n=======================\n     Connection Info\n=======================\nhost : ec2-54-146-80-82.compute-1.amazonaws.com\nport : 8086\nusername : root\ndatabase : Covid19\n"
    }
   ],
   "source": [
    "if __name__ == '__main__':\n",
    "\n",
    "    # Connect to InfluxDB\n",
    "    mydb = connect_InfluxDB(db=dbName, host=host, port=port, user=user, passwd=passwd)\n",
    "\n",
    "    # Write data to mydb\n",
    "    save_Covid19_KR_GenAge(mydb)\n",
    "    "
   ]
  },
  {
   "cell_type": "code",
   "execution_count": null,
   "metadata": {},
   "outputs": [],
   "source": []
  }
 ],
 "metadata": {
  "language_info": {
   "codemirror_mode": {
    "name": "ipython",
    "version": 3
   },
   "file_extension": ".py",
   "mimetype": "text/x-python",
   "name": "python",
   "nbconvert_exporter": "python",
   "pygments_lexer": "ipython3",
   "version": 3
  },
  "orig_nbformat": 2,
  "kernelspec": {
   "name": "python_defaultSpec_1614212881113",
   "display_name": "Python 3.7.7 64-bit ('tc': venv)"
  }
 },
 "nbformat": 4,
 "nbformat_minor": 2
}